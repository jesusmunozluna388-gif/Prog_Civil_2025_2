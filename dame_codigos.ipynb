{
  "cells": [
    {
      "cell_type": "markdown",
      "metadata": {
        "id": "view-in-github",
        "colab_type": "text"
      },
      "source": [
        "<a href=\"https://colab.research.google.com/github/jesusmunozluna388-gif/Prog_Civil_2025_2/blob/main/dame_codigos.ipynb\" target=\"_parent\"><img src=\"https://colab.research.google.com/assets/colab-badge.svg\" alt=\"Open In Colab\"/></a>"
      ]
    },
    {
      "cell_type": "markdown",
      "source": [
        "Claro, aquí tienes ejemplos de código para listas, tuplas y diccionarios en Python para que veas cómo se usan.\n",
        "\n",
        "## Listas 📋\n",
        "\n",
        "Las **listas** se usan cuando necesitas una colección de elementos que se pueda modificar."
      ],
      "metadata": {
        "id": "Lwr8R73wNSAb"
      }
    },
    {
      "cell_type": "code",
      "source": [
        "# Crear una lista\n",
        "frutas = ['manzana', 'banana', 'cereza']\n",
        "print(f\"Lista original: {frutas}\")\n",
        "\n",
        "# Acceder a un elemento\n",
        "print(f\"La primera fruta es: {frutas[0]}\")\n",
        "\n",
        "# Modificar un elemento\n",
        "frutas[1] = 'naranja'\n",
        "print(f\"Lista modificada: {frutas}\")\n",
        "\n",
        "# Añadir un elemento al final\n",
        "frutas.append('kiwi')\n",
        "print(f\"Lista con un nuevo elemento: {frutas}\")\n",
        "\n",
        "# Eliminar un elemento\n",
        "frutas.remove('manzana')\n",
        "print(f\"Lista después de eliminar 'manzana': {frutas}\")\n",
        "\n",
        "# Obtener la longitud de la lista\n",
        "print(f\"La lista tiene {len(frutas)} elementos.\")"
      ],
      "outputs": [],
      "execution_count": null,
      "metadata": {
        "id": "27Gm9PS3NSAg"
      }
    },
    {
      "cell_type": "markdown",
      "source": [
        "-----\n",
        "\n",
        "## Tuplas 🗂️\n",
        "\n",
        "Las **tuplas** son útiles para colecciones de datos que no deberían cambiar."
      ],
      "metadata": {
        "id": "dxmotHMtNSAi"
      }
    },
    {
      "cell_type": "code",
      "source": [
        "# Crear una tupla\n",
        "coordenadas = (10.0, 20.0)\n",
        "print(f\"Tupla de coordenadas: {coordenadas}\")\n",
        "\n",
        "# Acceder a un elemento (igual que en las listas)\n",
        "print(f\"La coordenada X es: {coordenadas[0]}\")\n",
        "\n",
        "# Intentar modificar un elemento (esto dará un error)\n",
        "# coordenadas[0] = 15.0\n",
        "# print(coordenadas)\n",
        "\n",
        "# Puedes obtener la longitud\n",
        "print(f\"La tupla tiene {len(coordenadas)} elementos.\")\n",
        "\n",
        "# También puedes anidar tuplas\n",
        "punto_color = ((1, 2), 'rojo')\n",
        "print(f\"Tupla anidada: {punto_color}\")"
      ],
      "outputs": [],
      "execution_count": null,
      "metadata": {
        "id": "36c2n888NSAi"
      }
    },
    {
      "cell_type": "markdown",
      "source": [
        "-----\n",
        "\n",
        "## Diccionarios 📚\n",
        "\n",
        "Los **diccionarios** son ideales cuando quieres almacenar datos en pares clave-valor para un acceso rápido y descriptivo."
      ],
      "metadata": {
        "id": "eApMviq3NSAj"
      }
    },
    {
      "cell_type": "code",
      "source": [
        "# Crear un diccionario\n",
        "persona = {\n",
        "    'nombre': 'Juan',\n",
        "    'edad': 30,\n",
        "    'ciudad': 'Madrid'\n",
        "}\n",
        "print(f\"Diccionario de persona: {persona}\")\n",
        "\n",
        "# Acceder a un valor usando su clave\n",
        "print(f\"El nombre de la persona es: {persona['nombre']}\")\n",
        "\n",
        "# Modificar el valor de una clave\n",
        "persona['edad'] = 31\n",
        "print(f\"Edad actualizada: {persona['edad']}\")\n",
        "\n",
        "# Añadir un nuevo par clave-valor\n",
        "persona['profesion'] = 'Ingeniero'\n",
        "print(f\"Diccionario con nueva clave: {persona}\")\n",
        "\n",
        "# Eliminar un par clave-valor\n",
        "del persona['ciudad']\n",
        "print(f\"Diccionario después de eliminar la ciudad: {persona}\")\n",
        "\n",
        "# Iterar sobre las claves\n",
        "print(\"Claves del diccionario:\")\n",
        "for clave in persona.keys():\n",
        "    print(clave)\n",
        "\n",
        "# Iterar sobre los valores\n",
        "print(\"Valores del diccionario:\")\n",
        "for valor in persona.values():\n",
        "    print(valor)\n",
        "\n",
        "# Iterar sobre los pares clave-valor\n",
        "print(\"Pares clave-valor del diccionario:\")\n",
        "for clave, valor in persona.items():\n",
        "    print(f\"{clave}: {valor}\")"
      ],
      "outputs": [],
      "execution_count": null,
      "metadata": {
        "id": "k53hqIGtNSAj"
      }
    }
  ],
  "metadata": {
    "colab": {
      "provenance": [],
      "include_colab_link": true
    },
    "kernelspec": {
      "display_name": "Python 3",
      "name": "python3"
    }
  },
  "nbformat": 4,
  "nbformat_minor": 0
}