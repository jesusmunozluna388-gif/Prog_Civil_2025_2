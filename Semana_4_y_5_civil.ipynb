{
  "nbformat": 4,
  "nbformat_minor": 0,
  "metadata": {
    "colab": {
      "provenance": [],
      "authorship_tag": "ABX9TyMneeEl46Zg/xyH72RRrVwZ",
      "include_colab_link": true
    },
    "kernelspec": {
      "name": "python3",
      "display_name": "Python 3"
    },
    "language_info": {
      "name": "python"
    }
  },
  "cells": [
    {
      "cell_type": "markdown",
      "metadata": {
        "id": "view-in-github",
        "colab_type": "text"
      },
      "source": [
        "<a href=\"https://colab.research.google.com/github/jesusmunozluna388-gif/Prog_Civil_2025_2/blob/main/Semana_4_y_5_civil.ipynb\" target=\"_parent\"><img src=\"https://colab.research.google.com/assets/colab-badge.svg\" alt=\"Open In Colab\"/></a>"
      ]
    },
    {
      "cell_type": "markdown",
      "source": [
        "# Situación de Interés en Ingeniería Civil ￿ :\n",
        " Un ingeniero estructural necesita calcular el peso de\n",
        " diferentes elementos de una construcción (vigas, columnas). El programa debe tener una base de datos\n",
        " con las densidades de materiales comunes (acero, concreto, madera) y, a partir del tipo de material y\n",
        " el volumen del elemento, debe calcular su peso total\n",
        "\n",
        " Caso de Ingeniería Civil: Calculadora de Peso Estructural (Diccionarios y Funciones)\n",
        " • Paso a Paso del Código:\n",
        " 1. Crear un diccionario que funcione como una base de datos de densidades. La clave será el\n",
        " nombre del material y el valor será su densidad en kg/m³.\n",
        " 2. Crear una función calcular_peso que reciba el diccionario de densidades, el nombre del material\n",
        " y su volumen.\n",
        " 3. Dentro de la función, buscar la densidad del material en el diccionario.\n",
        " 4. Si el material existe, calcular y devolver el peso (densidad * volumen). Si no, devolver un mensaje\n",
        " de error o None.\n",
        " 5. En el programa principal, pedir al usuario el tipo de material y las dimensiones del elemento para\n",
        " calcular su volumen.\n",
        " 6. Llamar a la función calcular_peso y mostrar el resultado."
      ],
      "metadata": {
        "id": "DTLe3AJBTTfA"
      }
    },
    {
      "cell_type": "code",
      "metadata": {
        "colab": {
          "base_uri": "https://localhost:8080/",
          "height": 408
        },
        "id": "ee85d416",
        "outputId": "2345dd45-0491-4e51-d08c-8733a4576baa"
      },
      "source": [
        "# 1. Crear un diccionario de densidades de materiales en kg/m³\n",
        "densidades = {\n",
        "    \"acero\": 7850,  # kg/m³\n",
        "    \"concreto\": 2400, # kg/m³\n",
        "    \"madera\": 700    # kg/m³ (valor promedio, varía según el tipo de madera)\n",
        "}\n",
        "\n",
        "# 2. Crear una función calcular_peso\n",
        "def calcular_peso(diccionario_densidades, nombre_material, volumen):\n",
        "    \"\"\"\n",
        "    Calcula el peso de un elemento estructural.\n",
        "\n",
        "    Args:\n",
        "        diccionario_densidades: Diccionario con las densidades de los materiales.\n",
        "        nombre_material: Nombre del material (string).\n",
        "        volumen: Volumen del elemento en m³ (float).\n",
        "\n",
        "    Returns:\n",
        "        El peso del elemento en kg (float) si el material existe, de lo contrario None.\n",
        "    \"\"\"\n",
        "    # 3. Buscar la densidad del material en el diccionario\n",
        "    if nombre_material.lower() in diccionario_densidades:\n",
        "        densidad = diccionario_densidades[nombre_material.lower()]\n",
        "        # 4. Calcular y devolver el peso\n",
        "        peso = densidad * volumen\n",
        "        return peso\n",
        "    else:\n",
        "        # Si el material no existe, devolver un mensaje de error o None\n",
        "        print(f\"Error: El material '{nombre_material}' no se encuentra en la base de datos de densidades.\")\n",
        "        return None\n",
        "\n",
        "# 5. En el programa principal, pedir al usuario el tipo de material y las dimensiones\n",
        "print(\"Calculadora de Peso Estructural\")\n",
        "print(\"Materiales disponibles:\", \", \".join(densidades.keys()))\n",
        "\n",
        "tipo_material_input = input(\"Ingrese el tipo de material del elemento: \")\n",
        "\n",
        "try:\n",
        "    # Pedir dimensiones para calcular el volumen\n",
        "    largo = float(input(\"Ingrese el largo del elemento en metros: \"))\n",
        "    ancho = float(input(\"Ingrese el ancho del elemento en metros: \"))\n",
        "    alto = float(input(\"Ingrese el alto del elemento en metros: \"))\n",
        "\n",
        "    # Calcular el volumen\n",
        "    volumen_calculado = largo * ancho * alto\n",
        "\n",
        "    # 6. Llamar a la función calcular_peso y mostrar el resultado\n",
        "    peso_calculado = calcular_peso(densidades, tipo_material_input, volumen_calculado)\n",
        "\n",
        "    if peso_calculado is not None:\n",
        "        print(f\"\\nEl peso del elemento de {tipo_material_input} con dimensiones {largo}m x {ancho}m x {alto}m (Volumen: {volumen_calculado:.2f} m³) es: {peso_calculado:.2f} kg\")\n",
        "\n",
        "except ValueError:\n",
        "    print(\"Error: Por favor, ingrese valores numéricos válidos para las dimensiones.\")"
      ],
      "execution_count": 10,
      "outputs": [
        {
          "output_type": "stream",
          "name": "stdout",
          "text": [
            "Calculadora de Peso Estructural\n",
            "Materiales disponibles: acero, concreto, madera\n"
          ]
        },
        {
          "output_type": "error",
          "ename": "KeyboardInterrupt",
          "evalue": "Interrupted by user",
          "traceback": [
            "\u001b[0;31m---------------------------------------------------------------------------\u001b[0m",
            "\u001b[0;31mKeyboardInterrupt\u001b[0m                         Traceback (most recent call last)",
            "\u001b[0;32m/tmp/ipython-input-3986227089.py\u001b[0m in \u001b[0;36m<cell line: 0>\u001b[0;34m()\u001b[0m\n\u001b[1;32m     34\u001b[0m \u001b[0mprint\u001b[0m\u001b[0;34m(\u001b[0m\u001b[0;34m\"Materiales disponibles:\"\u001b[0m\u001b[0;34m,\u001b[0m \u001b[0;34m\", \"\u001b[0m\u001b[0;34m.\u001b[0m\u001b[0mjoin\u001b[0m\u001b[0;34m(\u001b[0m\u001b[0mdensidades\u001b[0m\u001b[0;34m.\u001b[0m\u001b[0mkeys\u001b[0m\u001b[0;34m(\u001b[0m\u001b[0;34m)\u001b[0m\u001b[0;34m)\u001b[0m\u001b[0;34m)\u001b[0m\u001b[0;34m\u001b[0m\u001b[0;34m\u001b[0m\u001b[0m\n\u001b[1;32m     35\u001b[0m \u001b[0;34m\u001b[0m\u001b[0m\n\u001b[0;32m---> 36\u001b[0;31m \u001b[0mtipo_material_input\u001b[0m \u001b[0;34m=\u001b[0m \u001b[0minput\u001b[0m\u001b[0;34m(\u001b[0m\u001b[0;34m\"Ingrese el tipo de material del elemento: \"\u001b[0m\u001b[0;34m)\u001b[0m\u001b[0;34m\u001b[0m\u001b[0;34m\u001b[0m\u001b[0m\n\u001b[0m\u001b[1;32m     37\u001b[0m \u001b[0;34m\u001b[0m\u001b[0m\n\u001b[1;32m     38\u001b[0m \u001b[0;32mtry\u001b[0m\u001b[0;34m:\u001b[0m\u001b[0;34m\u001b[0m\u001b[0;34m\u001b[0m\u001b[0m\n",
            "\u001b[0;32m/usr/local/lib/python3.12/dist-packages/ipykernel/kernelbase.py\u001b[0m in \u001b[0;36mraw_input\u001b[0;34m(self, prompt)\u001b[0m\n\u001b[1;32m   1175\u001b[0m                 \u001b[0;34m\"raw_input was called, but this frontend does not support input requests.\"\u001b[0m\u001b[0;34m\u001b[0m\u001b[0;34m\u001b[0m\u001b[0m\n\u001b[1;32m   1176\u001b[0m             )\n\u001b[0;32m-> 1177\u001b[0;31m         return self._input_request(\n\u001b[0m\u001b[1;32m   1178\u001b[0m             \u001b[0mstr\u001b[0m\u001b[0;34m(\u001b[0m\u001b[0mprompt\u001b[0m\u001b[0;34m)\u001b[0m\u001b[0;34m,\u001b[0m\u001b[0;34m\u001b[0m\u001b[0;34m\u001b[0m\u001b[0m\n\u001b[1;32m   1179\u001b[0m             \u001b[0mself\u001b[0m\u001b[0;34m.\u001b[0m\u001b[0m_parent_ident\u001b[0m\u001b[0;34m[\u001b[0m\u001b[0;34m\"shell\"\u001b[0m\u001b[0;34m]\u001b[0m\u001b[0;34m,\u001b[0m\u001b[0;34m\u001b[0m\u001b[0;34m\u001b[0m\u001b[0m\n",
            "\u001b[0;32m/usr/local/lib/python3.12/dist-packages/ipykernel/kernelbase.py\u001b[0m in \u001b[0;36m_input_request\u001b[0;34m(self, prompt, ident, parent, password)\u001b[0m\n\u001b[1;32m   1217\u001b[0m             \u001b[0;32mexcept\u001b[0m \u001b[0mKeyboardInterrupt\u001b[0m\u001b[0;34m:\u001b[0m\u001b[0;34m\u001b[0m\u001b[0;34m\u001b[0m\u001b[0m\n\u001b[1;32m   1218\u001b[0m                 \u001b[0;31m# re-raise KeyboardInterrupt, to truncate traceback\u001b[0m\u001b[0;34m\u001b[0m\u001b[0;34m\u001b[0m\u001b[0m\n\u001b[0;32m-> 1219\u001b[0;31m                 \u001b[0;32mraise\u001b[0m \u001b[0mKeyboardInterrupt\u001b[0m\u001b[0;34m(\u001b[0m\u001b[0;34m\"Interrupted by user\"\u001b[0m\u001b[0;34m)\u001b[0m \u001b[0;32mfrom\u001b[0m \u001b[0;32mNone\u001b[0m\u001b[0;34m\u001b[0m\u001b[0;34m\u001b[0m\u001b[0m\n\u001b[0m\u001b[1;32m   1220\u001b[0m             \u001b[0;32mexcept\u001b[0m \u001b[0mException\u001b[0m\u001b[0;34m:\u001b[0m\u001b[0;34m\u001b[0m\u001b[0;34m\u001b[0m\u001b[0m\n\u001b[1;32m   1221\u001b[0m                 \u001b[0mself\u001b[0m\u001b[0;34m.\u001b[0m\u001b[0mlog\u001b[0m\u001b[0;34m.\u001b[0m\u001b[0mwarning\u001b[0m\u001b[0;34m(\u001b[0m\u001b[0;34m\"Invalid Message:\"\u001b[0m\u001b[0;34m,\u001b[0m \u001b[0mexc_info\u001b[0m\u001b[0;34m=\u001b[0m\u001b[0;32mTrue\u001b[0m\u001b[0;34m)\u001b[0m\u001b[0;34m\u001b[0m\u001b[0;34m\u001b[0m\u001b[0m\n",
            "\u001b[0;31mKeyboardInterrupt\u001b[0m: Interrupted by user"
          ]
        }
      ]
    },
    {
      "cell_type": "markdown",
      "source": [
        "# Situación 1: Almacenamiento de Cargas Puntuales en una Viga\n",
        " Un ingeniero necesita registrar\n",
        " las diferentes cargas puntuales (en Kilonewtons) que actúan sobre una viga. El programa debe permitir\n",
        " registrar varias cargas, almacenarlas y luego mostrarlas junto con la carga máxima aplicada.\n",
        "\n",
        "  Paso a Paso del Código (Guía para el Notebook)\n",
        " 1. # Crear una lista vacía llamada 'cargas_viga'.\n",
        " 2. # Preguntar al usuario cuántas cargas puntuales desea ingresar.\n",
        " 3. # Usar un bucle 'for' que se repita ese número de veces.\n",
        " 4. # En cada iteración, pedir el valor de la carga en kN y añadirlo a la lista\n",
        " 'cargas_viga'.\n",
        " 5. # Una vez que el bucle termina, mostrar todas las cargas registradas.\n",
        " 6. # Utilizar la función max() para encontrar la carga más alta en la lista.\n",
        " 7. # Imprimir la carga máxima encontrada, indicando sus unidades (kN)."
      ],
      "metadata": {
        "id": "Bz9znRr6fDBX"
      }
    },
    {
      "cell_type": "code",
      "metadata": {
        "colab": {
          "base_uri": "https://localhost:8080/"
        },
        "id": "4c2c88e8",
        "outputId": "5cf34e21-9408-4838-ab49-bac6fa11d906"
      },
      "source": [
        "# 1. Crear una lista vacía llamada 'cargas_viga'.\n",
        "cargas_viga = []\n",
        "\n",
        "# 2. Preguntar al usuario cuántas cargas puntuales desea ingresar.\n",
        "try:\n",
        "    num_cargas = int(input(\"¿Cuántas cargas puntuales desea ingresar? \"))\n",
        "\n",
        "    # 3. Usar un bucle 'for' que se repita ese número de veces.\n",
        "    for i in range(num_cargas):\n",
        "        # 4. En cada iteración, pedir el valor de la carga en kN y añadirlo a la lista 'cargas_viga'.\n",
        "        while True:\n",
        "            try:\n",
        "                carga = float(input(f\"Ingrese el valor de la carga {i+1} en kN: \"))\n",
        "                cargas_viga.append(carga)\n",
        "                break # Salir del bucle while si la entrada es válida\n",
        "            except ValueError:\n",
        "                print(\"Entrada inválida. Por favor, ingrese un valor numérico para la carga.\")\n",
        "\n",
        "    # 5. Una vez que el bucle termina, mostrar todas las cargas registradas.\n",
        "    print(\"\\n--- Cargas Registradas ---\")\n",
        "    if cargas_viga:\n",
        "        for i, carga in enumerate(cargas_viga):\n",
        "            print(f\"Carga {i+1}: {carga:.2f} kN\")\n",
        "\n",
        "        # 6. Utilizar la función max() para encontrar la carga más alta en la lista.\n",
        "        carga_maxima = max(cargas_viga)\n",
        "\n",
        "        # 7. Imprimir la carga máxima encontrada, indicando sus unidades (kN).\n",
        "        print(f\"\\nLa carga máxima aplicada es: {carga_maxima:.2f} kN\")\n",
        "    else:\n",
        "        print(\"No se ingresaron cargas.\")\n",
        "\n",
        "except ValueError:\n",
        "    print(\"Entrada inválida. Por favor, ingrese un número entero para la cantidad de cargas.\")"
      ],
      "execution_count": 12,
      "outputs": [
        {
          "output_type": "stream",
          "name": "stdout",
          "text": [
            "¿Cuántas cargas puntuales desea ingresar? 4\n",
            "Ingrese el valor de la carga 1 en kN: 10\n",
            "Ingrese el valor de la carga 2 en kN: 20\n",
            "Ingrese el valor de la carga 3 en kN: 30\n",
            "Ingrese el valor de la carga 4 en kN: 40\n",
            "\n",
            "--- Cargas Registradas ---\n",
            "Carga 1: 10.00 kN\n",
            "Carga 2: 20.00 kN\n",
            "Carga 3: 30.00 kN\n",
            "Carga 4: 40.00 kN\n",
            "\n",
            "La carga máxima aplicada es: 40.00 kN\n"
          ]
        }
      ]
    },
    {
      "cell_type": "markdown",
      "source": [
        "#  Situación 2: Función para Calcular el Área de una Sección Transversal\n",
        " En el diseño estructural,\n",
        " es común calcular el área de diferentes secciones transversales (rectangulares, circulares, etc.). Crearás una\n",
        " función específica para calcular el área de una sección rectangular, que podrá ser reutilizada fácilmente.\n",
        "\n",
        "  Paso a Paso del Código (Guía para el Notebook)\n",
        " 1. # Definir una función llamada 'area_rectangulo' que acepte dos parámetros:\n",
        " 'base' y 'altura'.\n",
        " 2. # Dentro de la función, calcular el área multiplicando la base por la altura.\n",
        " 3. # La función debe devolver el resultado del cálculo.\n",
        " 4. # En el programa principal, simular el cálculo para dos elementos estructurales\n",
        " diferentes (ej. una viga y una columna).\n",
        " 5. # Para la viga, pedir su base y altura, llamar a la función 'area_rectangulo' y\n",
        " mostrar el resultado.\n",
        " 6. # Para la columna, pedir su base y altura, llamar a la MISMA función 'area_rectangulo'\n",
        " y mostrar el resultado.\n",
        " 7. # Resaltar cómo la función evitó tener que escribir la fórmula 'base * altura'\n",
        " dos veces."
      ],
      "metadata": {
        "id": "FU4z8FnVfh5P"
      }
    },
    {
      "cell_type": "code",
      "metadata": {
        "colab": {
          "base_uri": "https://localhost:8080/"
        },
        "id": "bf6e81c0",
        "outputId": "1cebf9f2-04e7-4f81-941d-ef960330f68e"
      },
      "source": [
        "# 1. Definir una función llamada 'area_rectangulo' que acepte dos parámetros: 'base' y 'altura'.\n",
        "def area_rectangulo(base, altura):\n",
        "    \"\"\"\n",
        "    Calcula el área de una sección transversal rectangular.\n",
        "\n",
        "    Args:\n",
        "        base: La base del rectángulo (float).\n",
        "        altura: La altura del rectángulo (float).\n",
        "\n",
        "    Returns:\n",
        "        El área del rectángulo (float).\n",
        "    \"\"\"\n",
        "    # 2. Dentro de la función, calcular el área multiplicando la base por la altura.\n",
        "    area = base * altura\n",
        "    # 3. La función debe devolver el resultado del cálculo.\n",
        "    return area\n",
        "\n",
        "# 4. En el programa principal, simular el cálculo para dos elementos estructurales diferentes.\n",
        "print(\"Calculadora de Área de Sección Rectangular\")\n",
        "\n",
        "# 5. Para la viga, pedir su base y altura, llamar a la función 'area_rectangulo' y mostrar el resultado.\n",
        "print(\"\\n--- Cálculo para una Viga ---\")\n",
        "try:\n",
        "    base_viga = float(input(\"Ingrese la base de la viga en metros: \"))\n",
        "    altura_viga = float(input(\"Ingrese la altura de la viga en metros: \"))\n",
        "\n",
        "    area_viga = area_rectangulo(base_viga, altura_viga)\n",
        "    print(f\"El área de la sección transversal de la viga es: {area_viga:.2f} m²\")\n",
        "\n",
        "except ValueError:\n",
        "    print(\"Error: Por favor, ingrese valores numéricos válidos para las dimensiones de la viga.\")\n",
        "\n",
        "# 6. Para la columna, pedir su base y altura, llamar a la MISMA función 'area_rectangulo' y mostrar el resultado.\n",
        "print(\"\\n--- Cálculo para una Columna ---\")\n",
        "try:\n",
        "    base_columna = float(input(\"Ingrese la base de la columna en metros: \"))\n",
        "    altura_columna = float(input(\"Ingrese la altura de la columna en metros: \"))\n",
        "\n",
        "    area_columna = area_rectangulo(base_columna, altura_columna)\n",
        "    print(f\"El área de la sección transversal de la columna es: {area_columna:.2f} m²\")\n",
        "\n",
        "except ValueError:\n",
        "    print(\"Error: Por favor, ingrese valores numéricos válidos para las dimensiones de la columna.\")\n",
        "\n",
        "# 7. Resaltar cómo la función evitó tener que escribir la fórmula 'base * altura' dos veces.\n",
        "print(\"\\n--- Reutilización de la Función ---\")\n",
        "print(\"Hemos utilizado la misma función 'area_rectangulo' para calcular el área tanto de la viga como de la columna, demostrando cómo una función evita repetir código.\")"
      ],
      "execution_count": 13,
      "outputs": [
        {
          "output_type": "stream",
          "name": "stdout",
          "text": [
            "Calculadora de Área de Sección Rectangular\n",
            "\n",
            "--- Cálculo para una Viga ---\n",
            "Ingrese la base de la viga en metros: 20\n",
            "Ingrese la altura de la viga en metros: 30\n",
            "El área de la sección transversal de la viga es: 600.00 m²\n",
            "\n",
            "--- Cálculo para una Columna ---\n",
            "Ingrese la base de la columna en metros: 2\n",
            "Ingrese la altura de la columna en metros: 5\n",
            "El área de la sección transversal de la columna es: 10.00 m²\n",
            "\n",
            "--- Reutilización de la Función ---\n",
            "Hemos utilizado la misma función 'area_rectangulo' para calcular el área tanto de la viga como de la columna, demostrando cómo una función evita repetir código.\n"
          ]
        }
      ]
    }
  ]
}