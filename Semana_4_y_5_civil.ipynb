{
  "nbformat": 4,
  "nbformat_minor": 0,
  "metadata": {
    "colab": {
      "provenance": [],
      "authorship_tag": "ABX9TyPkM4sNGfsZugpBLP4DOiwT",
      "include_colab_link": true
    },
    "kernelspec": {
      "name": "python3",
      "display_name": "Python 3"
    },
    "language_info": {
      "name": "python"
    }
  },
  "cells": [
    {
      "cell_type": "markdown",
      "metadata": {
        "id": "view-in-github",
        "colab_type": "text"
      },
      "source": [
        "<a href=\"https://colab.research.google.com/github/jesusmunozluna388-gif/Prog_Civil_2025_2/blob/main/Semana_4_y_5_civil.ipynb\" target=\"_parent\"><img src=\"https://colab.research.google.com/assets/colab-badge.svg\" alt=\"Open In Colab\"/></a>"
      ]
    },
    {
      "cell_type": "markdown",
      "source": [
        "# Situación de Interés en Ingeniería Civil ￿ :\n",
        " Un ingeniero estructural necesita calcular el peso de\n",
        " diferentes elementos de una construcción (vigas, columnas). El programa debe tener una base de datos\n",
        " con las densidades de materiales comunes (acero, concreto, madera) y, a partir del tipo de material y\n",
        " el volumen del elemento, debe calcular su peso total\n",
        "\n",
        " Caso de Ingeniería Civil: Calculadora de Peso Estructural (Diccionarios y Funciones)\n",
        " • Paso a Paso del Código:\n",
        " 1. Crear un diccionario que funcione como una base de datos de densidades. La clave será el\n",
        " nombre del material y el valor será su densidad en kg/m³.\n",
        " 2. Crear una función calcular_peso que reciba el diccionario de densidades, el nombre del material\n",
        " y su volumen.\n",
        " 3. Dentro de la función, buscar la densidad del material en el diccionario.\n",
        " 4. Si el material existe, calcular y devolver el peso (densidad * volumen). Si no, devolver un mensaje\n",
        " de error o None.\n",
        " 5. En el programa principal, pedir al usuario el tipo de material y las dimensiones del elemento para\n",
        " calcular su volumen.\n",
        " 6. Llamar a la función calcular_peso y mostrar el resultado."
      ],
      "metadata": {
        "id": "DTLe3AJBTTfA"
      }
    },
    {
      "cell_type": "code",
      "metadata": {
        "colab": {
          "base_uri": "https://localhost:8080/"
        },
        "id": "ee85d416",
        "outputId": "2345dd45-0491-4e51-d08c-8733a4576baa"
      },
      "source": [
        "# 1. Crear un diccionario de densidades de materiales en kg/m³\n",
        "densidades = {\n",
        "    \"acero\": 7850,  # kg/m³\n",
        "    \"concreto\": 2400, # kg/m³\n",
        "    \"madera\": 700    # kg/m³ (valor promedio, varía según el tipo de madera)\n",
        "}\n",
        "\n",
        "# 2. Crear una función calcular_peso\n",
        "def calcular_peso(diccionario_densidades, nombre_material, volumen):\n",
        "    \"\"\"\n",
        "    Calcula el peso de un elemento estructural.\n",
        "\n",
        "    Args:\n",
        "        diccionario_densidades: Diccionario con las densidades de los materiales.\n",
        "        nombre_material: Nombre del material (string).\n",
        "        volumen: Volumen del elemento en m³ (float).\n",
        "\n",
        "    Returns:\n",
        "        El peso del elemento en kg (float) si el material existe, de lo contrario None.\n",
        "    \"\"\"\n",
        "    # 3. Buscar la densidad del material en el diccionario\n",
        "    if nombre_material.lower() in diccionario_densidades:\n",
        "        densidad = diccionario_densidades[nombre_material.lower()]\n",
        "        # 4. Calcular y devolver el peso\n",
        "        peso = densidad * volumen\n",
        "        return peso\n",
        "    else:\n",
        "        # Si el material no existe, devolver un mensaje de error o None\n",
        "        print(f\"Error: El material '{nombre_material}' no se encuentra en la base de datos de densidades.\")\n",
        "        return None\n",
        "\n",
        "# 5. En el programa principal, pedir al usuario el tipo de material y las dimensiones\n",
        "print(\"Calculadora de Peso Estructural\")\n",
        "print(\"Materiales disponibles:\", \", \".join(densidades.keys()))\n",
        "\n",
        "tipo_material_input = input(\"Ingrese el tipo de material del elemento: \")\n",
        "\n",
        "try:\n",
        "    # Pedir dimensiones para calcular el volumen\n",
        "    largo = float(input(\"Ingrese el largo del elemento en metros: \"))\n",
        "    ancho = float(input(\"Ingrese el ancho del elemento en metros: \"))\n",
        "    alto = float(input(\"Ingrese el alto del elemento en metros: \"))\n",
        "\n",
        "    # Calcular el volumen\n",
        "    volumen_calculado = largo * ancho * alto\n",
        "\n",
        "    # 6. Llamar a la función calcular_peso y mostrar el resultado\n",
        "    peso_calculado = calcular_peso(densidades, tipo_material_input, volumen_calculado)\n",
        "\n",
        "    if peso_calculado is not None:\n",
        "        print(f\"\\nEl peso del elemento de {tipo_material_input} con dimensiones {largo}m x {ancho}m x {alto}m (Volumen: {volumen_calculado:.2f} m³) es: {peso_calculado:.2f} kg\")\n",
        "\n",
        "except ValueError:\n",
        "    print(\"Error: Por favor, ingrese valores numéricos válidos para las dimensiones.\")"
      ],
      "execution_count": null,
      "outputs": [
        {
          "output_type": "stream",
          "name": "stdout",
          "text": [
            "Calculadora de Peso Estructural\n",
            "Materiales disponibles: acero, concreto, madera\n"
          ]
        }
      ]
    },
    {
      "cell_type": "code",
      "metadata": {
        "colab": {
          "base_uri": "https://localhost:8080/"
        },
        "id": "2f209d78",
        "outputId": "21b118ee-eab7-4066-eccf-f12a51290c17"
      },
      "source": [
        "# This cell is removed as requested by the user to merge code into a single cell."
      ],
      "execution_count": 6,
      "outputs": [
        {
          "output_type": "stream",
          "name": "stdout",
          "text": [
            "Calculadora de Peso Estructural\n",
            "Materiales disponibles: acero, concreto, madera\n",
            "Ingrese el tipo de material del elemento: acero\n",
            "Ingrese el volumen del elemento en m³: 400\n",
            "\n",
            "El peso del elemento de acero con un volumen de 400.0 m³ es: 3140000.00 kg\n"
          ]
        }
      ]
    }
  ]
}